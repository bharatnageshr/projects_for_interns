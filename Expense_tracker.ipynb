{
 "cells": [
  {
   "cell_type": "code",
   "execution_count": 7,
   "id": "b389f3c2-5dff-437f-8e1f-3adf910a7f90",
   "metadata": {},
   "outputs": [
    {
     "name": "stdout",
     "output_type": "stream",
     "text": [
      "\n",
      "Expense Tracker\n",
      "1. Add Expense\n",
      "2. View Expenses\n",
      "3. Delete Expense\n",
      "4. Exit\n"
     ]
    },
    {
     "name": "stdin",
     "output_type": "stream",
     "text": [
      "Enter your choice:  Add Expense\n"
     ]
    },
    {
     "name": "stdout",
     "output_type": "stream",
     "text": [
      "Invalid choice. Please try again.\n",
      "\n",
      "Expense Tracker\n",
      "1. Add Expense\n",
      "2. View Expenses\n",
      "3. Delete Expense\n",
      "4. Exit\n"
     ]
    },
    {
     "name": "stdin",
     "output_type": "stream",
     "text": [
      "Enter your choice:  1\n",
      "Enter description:  ee\n",
      "Enter amount:  23\n",
      "Enter category:  foof\n"
     ]
    },
    {
     "name": "stdout",
     "output_type": "stream",
     "text": [
      "Expense added: ee, Amount: 23.0, Category: foof\n",
      "\n",
      "Expense Tracker\n",
      "1. Add Expense\n",
      "2. View Expenses\n",
      "3. Delete Expense\n",
      "4. Exit\n"
     ]
    },
    {
     "name": "stdin",
     "output_type": "stream",
     "text": [
      "Enter your choice:  2\n"
     ]
    },
    {
     "name": "stdout",
     "output_type": "stream",
     "text": [
      "                  Date Description  Amount Category\n",
      "0  2024-06-21 00:56:39          ee    23.0     foof\n",
      "\n",
      "Expense Tracker\n",
      "1. Add Expense\n",
      "2. View Expenses\n",
      "3. Delete Expense\n",
      "4. Exit\n"
     ]
    },
    {
     "name": "stdin",
     "output_type": "stream",
     "text": [
      "Enter your choice:  1\n",
      "Enter description:  hshd\n",
      "Enter amount:  fjdk\n"
     ]
    },
    {
     "ename": "ValueError",
     "evalue": "could not convert string to float: 'fjdk'",
     "output_type": "error",
     "traceback": [
      "\u001b[0;31m---------------------------------------------------------------------------\u001b[0m",
      "\u001b[0;31mValueError\u001b[0m                                Traceback (most recent call last)",
      "Cell \u001b[0;32mIn[7], line 76\u001b[0m\n\u001b[1;32m     73\u001b[0m             \u001b[38;5;28mprint\u001b[39m(\u001b[38;5;124m\"\u001b[39m\u001b[38;5;124mInvalid choice. Please try again.\u001b[39m\u001b[38;5;124m\"\u001b[39m)\n\u001b[1;32m     75\u001b[0m \u001b[38;5;28;01mif\u001b[39;00m \u001b[38;5;18m__name__\u001b[39m \u001b[38;5;241m==\u001b[39m \u001b[38;5;124m'\u001b[39m\u001b[38;5;124m__main__\u001b[39m\u001b[38;5;124m'\u001b[39m:\n\u001b[0;32m---> 76\u001b[0m     main()\n",
      "Cell \u001b[0;32mIn[7], line 59\u001b[0m, in \u001b[0;36mmain\u001b[0;34m()\u001b[0m\n\u001b[1;32m     57\u001b[0m \u001b[38;5;28;01mif\u001b[39;00m choice \u001b[38;5;241m==\u001b[39m \u001b[38;5;124m'\u001b[39m\u001b[38;5;124m1\u001b[39m\u001b[38;5;124m'\u001b[39m:\n\u001b[1;32m     58\u001b[0m     description \u001b[38;5;241m=\u001b[39m \u001b[38;5;28minput\u001b[39m(\u001b[38;5;124m\"\u001b[39m\u001b[38;5;124mEnter description: \u001b[39m\u001b[38;5;124m\"\u001b[39m)\n\u001b[0;32m---> 59\u001b[0m     amount \u001b[38;5;241m=\u001b[39m \u001b[38;5;28mfloat\u001b[39m(\u001b[38;5;28minput\u001b[39m(\u001b[38;5;124m\"\u001b[39m\u001b[38;5;124mEnter amount: \u001b[39m\u001b[38;5;124m\"\u001b[39m))\n\u001b[1;32m     60\u001b[0m     category \u001b[38;5;241m=\u001b[39m \u001b[38;5;28minput\u001b[39m(\u001b[38;5;124m\"\u001b[39m\u001b[38;5;124mEnter category: \u001b[39m\u001b[38;5;124m\"\u001b[39m)\n\u001b[1;32m     61\u001b[0m     add_expense(description, amount, category)\n",
      "\u001b[0;31mValueError\u001b[0m: could not convert string to float: 'fjdk'"
     ]
    }
   ],
   "source": [
    "import csv\n",
    "import pandas as pd\n",
    "from datetime import datetime\n",
    "\n",
    "# Define the CSV file path\n",
    "FILE_PATH = 'expenses.csv'\n",
    "\n",
    "# Initialize the CSV file with headers if it doesn't exist\n",
    "def initialize_csv():\n",
    "    try:\n",
    "        with open(FILE_PATH, mode='x', newline='') as file:\n",
    "            writer = csv.writer(file)\n",
    "            writer.writerow(['Date', 'Description', 'Amount', 'Category'])\n",
    "    except FileExistsError:\n",
    "        pass\n",
    "\n",
    "# Add a new expense\n",
    "def add_expense(description, amount, category):\n",
    "    date = datetime.now().strftime('%Y-%m-%d %H:%M:%S')\n",
    "    with open(FILE_PATH, mode='a', newline='') as file:\n",
    "        writer = csv.writer(file)\n",
    "        writer.writerow([date, description, amount, category])\n",
    "    print(f\"Expense added: {description}, Amount: {amount}, Category: {category}\")\n",
    "\n",
    "# View all expenses\n",
    "def view_expenses():\n",
    "    try:\n",
    "        df = pd.read_csv(FILE_PATH)\n",
    "        print(df)\n",
    "    except FileNotFoundError:\n",
    "        print(\"No expenses found. Add some expenses first.\")\n",
    "\n",
    "# Delete an expense by index\n",
    "def delete_expense(index):\n",
    "    try:\n",
    "        df = pd.read_csv(FILE_PATH)\n",
    "        if index < 0 or index >= len(df):\n",
    "            print(\"Invalid index. Please try again.\")\n",
    "            return\n",
    "        df.drop(index, inplace=True)\n",
    "        df.to_csv(FILE_PATH, index=False)\n",
    "        print(\"Expense deleted.\")\n",
    "    except FileNotFoundError:\n",
    "        print(\"No expenses found. Add some expenses first.\")\n",
    "\n",
    "# Main menu\n",
    "def main():\n",
    "    initialize_csv()\n",
    "    while True:\n",
    "        print(\"\\nExpense Tracker\")\n",
    "        print(\"1. Add Expense\")\n",
    "        print(\"2. View Expenses\")\n",
    "        print(\"3. Delete Expense\")\n",
    "        print(\"4. Exit\")\n",
    "        choice = input(\"Enter your choice: \")\n",
    "        \n",
    "        if choice == '1':\n",
    "            description = input(\"Enter description: \")\n",
    "            amount = float(input(\"Enter amount: \"))\n",
    "            category = input(\"Enter category: \")\n",
    "            add_expense(description, amount, category)\n",
    "        elif choice == '2':\n",
    "            view_expenses()\n",
    "        elif choice == '3':\n",
    "            try:\n",
    "                index = int(input(\"Enter the index of the expense to delete: \"))\n",
    "                delete_expense(index)\n",
    "            except ValueError:\n",
    "                print(\"Invalid input. Please enter a valid index.\")\n",
    "        elif choice == '4':\n",
    "            break\n",
    "        else:\n",
    "            print(\"Invalid choice. Please try again.\")\n",
    "\n",
    "if __name__ == '__main__':\n",
    "    main()\n"
   ]
  },
  {
   "cell_type": "code",
   "execution_count": null,
   "id": "62284456-2b20-4e70-be29-d65a6c6cfcbd",
   "metadata": {},
   "outputs": [],
   "source": []
  }
 ],
 "metadata": {
  "kernelspec": {
   "display_name": "Python 3 (ipykernel)",
   "language": "python",
   "name": "python3"
  },
  "language_info": {
   "codemirror_mode": {
    "name": "ipython",
    "version": 3
   },
   "file_extension": ".py",
   "mimetype": "text/x-python",
   "name": "python",
   "nbconvert_exporter": "python",
   "pygments_lexer": "ipython3",
   "version": "3.11.7"
  }
 },
 "nbformat": 4,
 "nbformat_minor": 5
}
