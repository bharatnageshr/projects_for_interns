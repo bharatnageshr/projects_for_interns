{
 "cells": [
  {
   "cell_type": "code",
   "execution_count": 1,
   "id": "c7325eaf-045c-4258-9c20-d29303431135",
   "metadata": {},
   "outputs": [
    {
     "name": "stdout",
     "output_type": "stream",
     "text": [
      "Welcome to Tic Tac Toe!\n"
     ]
    },
    {
     "name": "stdin",
     "output_type": "stream",
     "text": [
      "Enter '1' for multiplayer or '2' for AI:  2\n"
     ]
    },
    {
     "name": "stdout",
     "output_type": "stream",
     "text": [
      "|   |   |   |\n",
      "|   |   |   |\n",
      "|   |   |   |\n"
     ]
    },
    {
     "name": "stdin",
     "output_type": "stream",
     "text": [
      "Player X, enter your move (1-9):  2\n"
     ]
    },
    {
     "name": "stdout",
     "output_type": "stream",
     "text": [
      "|   | X |   |\n",
      "|   |   |   |\n",
      "|   |   |   |\n",
      "AI has made its move.\n",
      "| O | X |   |\n",
      "|   |   |   |\n",
      "|   |   |   |\n"
     ]
    },
    {
     "name": "stdin",
     "output_type": "stream",
     "text": [
      "Player X, enter your move (1-9):  3\n"
     ]
    },
    {
     "name": "stdout",
     "output_type": "stream",
     "text": [
      "| O | X | X |\n",
      "|   |   |   |\n",
      "|   |   |   |\n",
      "AI has made its move.\n",
      "| O | X | X |\n",
      "| O |   |   |\n",
      "|   |   |   |\n"
     ]
    },
    {
     "name": "stdin",
     "output_type": "stream",
     "text": [
      "Player X, enter your move (1-9):  4\n"
     ]
    },
    {
     "name": "stdout",
     "output_type": "stream",
     "text": [
      "Position already taken. Please try again.\n",
      "| O | X | X |\n",
      "| O |   |   |\n",
      "|   |   |   |\n"
     ]
    },
    {
     "name": "stdin",
     "output_type": "stream",
     "text": [
      "Player X, enter your move (1-9):  1\n"
     ]
    },
    {
     "name": "stdout",
     "output_type": "stream",
     "text": [
      "Position already taken. Please try again.\n",
      "| O | X | X |\n",
      "| O |   |   |\n",
      "|   |   |   |\n"
     ]
    },
    {
     "name": "stdin",
     "output_type": "stream",
     "text": [
      "Player X, enter your move (1-9):  \n"
     ]
    },
    {
     "name": "stdout",
     "output_type": "stream",
     "text": [
      "Invalid input. Please enter a number between 1 and 9.\n",
      "| O | X | X |\n",
      "| O |   |   |\n",
      "|   |   |   |\n"
     ]
    },
    {
     "name": "stdin",
     "output_type": "stream",
     "text": [
      "Player X, enter your move (1-9):  6\n"
     ]
    },
    {
     "name": "stdout",
     "output_type": "stream",
     "text": [
      "| O | X | X |\n",
      "| O |   | X |\n",
      "|   |   |   |\n",
      "AI has made its move.\n",
      "| O | X | X |\n",
      "| O |   | X |\n",
      "| O |   |   |\n",
      "Player O wins!\n"
     ]
    }
   ],
   "source": [
    "# Initialize the game board\n",
    "board = [' ' for _ in range(9)]\n",
    "\n",
    "# Print the board\n",
    "def print_board():\n",
    "    for row in [board[i * 3:(i + 1) * 3] for i in range(3)]:\n",
    "        print('| ' + ' | '.join(row) + ' |')\n",
    "\n",
    "# Check if the board is full\n",
    "def is_board_full():\n",
    "    return ' ' not in board\n",
    "\n",
    "# Check for a winner\n",
    "def check_winner(player):\n",
    "    win_conditions = [(0, 1, 2), (3, 4, 5), (6, 7, 8),\n",
    "                      (0, 3, 6), (1, 4, 7), (2, 5, 8),\n",
    "                      (0, 4, 8), (2, 4, 6)]\n",
    "    return any(board[a] == board[b] == board[c] == player for a, b, c in win_conditions)\n",
    "\n",
    "# Make a move\n",
    "def make_move(position, player):\n",
    "    if board[position] == ' ':\n",
    "        board[position] = player\n",
    "        return True\n",
    "    return False\n",
    "# Minimax algorithm to find the best move for the AI\n",
    "def minimax(board, depth, is_maximizing):\n",
    "    if check_winner('O'):\n",
    "        return 1\n",
    "    elif check_winner('X'):\n",
    "        return -1\n",
    "    elif is_board_full():\n",
    "        return 0\n",
    "\n",
    "    if is_maximizing:\n",
    "        best_score = -float('inf')\n",
    "        for i in range(9):\n",
    "            if board[i] == ' ':\n",
    "                board[i] = 'O'\n",
    "                score = minimax(board, depth + 1, False)\n",
    "                board[i] = ' '\n",
    "                best_score = max(score, best_score)\n",
    "        return best_score\n",
    "    else:\n",
    "        best_score = float('inf')\n",
    "        for i in range(9):\n",
    "            if board[i] == ' ':\n",
    "                board[i] = 'X'\n",
    "                score = minimax(board, depth + 1, True)\n",
    "                board[i] = ' '\n",
    "                best_score = min(score, best_score)\n",
    "        return best_score\n",
    "\n",
    "# Find the best move for the AI\n",
    "def ai_move():\n",
    "    best_score = -float('inf')\n",
    "    best_move = None\n",
    "    for i in range(9):\n",
    "        if board[i] == ' ':\n",
    "            board[i] = 'O'\n",
    "            score = minimax(board, 0, False)\n",
    "            board[i] = ' '\n",
    "            if score > best_score:\n",
    "                best_score = score\n",
    "                best_move = i\n",
    "    make_move(best_move, 'O')\n",
    "def tic_tac_toe():\n",
    "    print(\"Welcome to Tic Tac Toe!\")\n",
    "    game_mode = input(\"Enter '1' for multiplayer or '2' for AI: \")\n",
    "\n",
    "    player = 'X'\n",
    "    while True:\n",
    "        print_board()\n",
    "        \n",
    "        if game_mode == '1' or (game_mode == '2' and player == 'X'):\n",
    "            try:\n",
    "                position = int(input(f\"Player {player}, enter your move (1-9): \")) - 1\n",
    "                if position < 0 or position > 8:\n",
    "                    print(\"Invalid move. Please try again.\")\n",
    "                    continue\n",
    "                if not make_move(position, player):\n",
    "                    print(\"Position already taken. Please try again.\")\n",
    "                    continue\n",
    "            except ValueError:\n",
    "                print(\"Invalid input. Please enter a number between 1 and 9.\")\n",
    "                continue\n",
    "        else:\n",
    "            ai_move()\n",
    "            print(\"AI has made its move.\")\n",
    "\n",
    "        if check_winner(player):\n",
    "            print_board()\n",
    "            print(f\"Player {player} wins!\")\n",
    "            break\n",
    "        if is_board_full():\n",
    "            print_board()\n",
    "            print(\"It's a draw!\")\n",
    "            break\n",
    "\n",
    "        player = 'O' if player == 'X' else 'X'\n",
    "\n",
    "# Start the game\n",
    "if __name__ == \"__main__\":\n",
    "    tic_tac_toe()\n"
   ]
  },
  {
   "cell_type": "code",
   "execution_count": null,
   "id": "79c817ae-4259-41c8-9c0a-94268c2dda51",
   "metadata": {},
   "outputs": [],
   "source": []
  }
 ],
 "metadata": {
  "kernelspec": {
   "display_name": "Python 3 (ipykernel)",
   "language": "python",
   "name": "python3"
  },
  "language_info": {
   "codemirror_mode": {
    "name": "ipython",
    "version": 3
   },
   "file_extension": ".py",
   "mimetype": "text/x-python",
   "name": "python",
   "nbconvert_exporter": "python",
   "pygments_lexer": "ipython3",
   "version": "3.11.7"
  }
 },
 "nbformat": 4,
 "nbformat_minor": 5
}
